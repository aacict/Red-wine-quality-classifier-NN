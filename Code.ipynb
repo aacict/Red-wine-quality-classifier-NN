{
 "cells": [
  {
   "cell_type": "markdown",
   "metadata": {},
   "source": [
    "## Red wine quality classifier using a Neural network"
   ]
  },
  {
   "cell_type": "markdown",
   "metadata": {},
   "source": [
    "### Perform EDA, Explore the features using histograms, any data preprocessing required:::"
   ]
  },
  {
   "cell_type": "markdown",
   "metadata": {},
   "source": [
    "### NN using Tensorflow Estimator DNN Classifier implementation:::\n",
    "### Neural Net using Keras implementation:::\n",
    "### Training & Validation Accuracy plots::::\n",
    "### Training & Validation Loss plots:::\n",
    "### Conclusion:::"
   ]
  }
 ],
 "metadata": {
  "kernelspec": {
   "display_name": "base",
   "language": "python",
   "name": "python3"
  },
  "language_info": {
   "codemirror_mode": {
    "name": "ipython",
    "version": 3
   },
   "file_extension": ".py",
   "mimetype": "text/x-python",
   "name": "python",
   "nbconvert_exporter": "python",
   "pygments_lexer": "ipython3",
   "version": "3.11.5"
  }
 },
 "nbformat": 4,
 "nbformat_minor": 2
}
